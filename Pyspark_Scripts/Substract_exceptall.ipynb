{
  "nbformat": 4,
  "nbformat_minor": 0,
  "metadata": {
    "colab": {
      "provenance": []
    },
    "kernelspec": {
      "name": "python3",
      "display_name": "Python 3"
    },
    "language_info": {
      "name": "python"
    }
  },
  "cells": [
    {
      "cell_type": "code",
      "execution_count": 1,
      "metadata": {
        "colab": {
          "base_uri": "https://localhost:8080/"
        },
        "id": "FSAjqm9CvQS7",
        "outputId": "fae15794-d149-4102-e138-b275f9c8b0bc"
      },
      "outputs": [
        {
          "output_type": "stream",
          "name": "stdout",
          "text": [
            "Collecting pyspark\n",
            "  Downloading pyspark-3.5.2.tar.gz (317.3 MB)\n",
            "\u001b[2K     \u001b[90m━━━━━━━━━━━━━━━━━━━━━━━━━━━━━━━━━━━━━━━━\u001b[0m \u001b[32m317.3/317.3 MB\u001b[0m \u001b[31m4.3 MB/s\u001b[0m eta \u001b[36m0:00:00\u001b[0m\n",
            "\u001b[?25h  Preparing metadata (setup.py) ... \u001b[?25l\u001b[?25hdone\n",
            "Requirement already satisfied: py4j in /usr/local/lib/python3.10/dist-packages (0.10.9.7)\n",
            "Building wheels for collected packages: pyspark\n",
            "  Building wheel for pyspark (setup.py) ... \u001b[?25l\u001b[?25hdone\n",
            "  Created wheel for pyspark: filename=pyspark-3.5.2-py2.py3-none-any.whl size=317812365 sha256=05b524e90b6b28a53971536548e13d3ff91b9cfdd513a6bcf1e5442e69cbd813\n",
            "  Stored in directory: /root/.cache/pip/wheels/34/34/bd/03944534c44b677cd5859f248090daa9fb27b3c8f8e5f49574\n",
            "Successfully built pyspark\n",
            "Installing collected packages: pyspark\n",
            "Successfully installed pyspark-3.5.2\n"
          ]
        }
      ],
      "source": [
        "!pip install pyspark py4j"
      ]
    },
    {
      "cell_type": "code",
      "source": [
        "from pyspark.sql import SparkSession\n",
        "from pyspark.sql.functions import *\n",
        "from pyspark.sql.types import *\n",
        "\n",
        "spark = SparkSession.builder.appName(\"App\").getOrCreate()\n",
        "print(f\"Spark session created {spark}\")\n",
        "spark.getActiveSession()"
      ],
      "metadata": {
        "colab": {
          "base_uri": "https://localhost:8080/",
          "height": 237
        },
        "id": "QUvuOVNm8lIH",
        "outputId": "f7400047-3385-4607-9956-3c0ea71d2cea"
      },
      "execution_count": 2,
      "outputs": [
        {
          "output_type": "stream",
          "name": "stdout",
          "text": [
            "Spark session created <pyspark.sql.session.SparkSession object at 0x7a415f747070>\n"
          ]
        },
        {
          "output_type": "execute_result",
          "data": {
            "text/plain": [
              "<pyspark.sql.session.SparkSession at 0x7a415f747070>"
            ],
            "text/html": [
              "\n",
              "            <div>\n",
              "                <p><b>SparkSession - in-memory</b></p>\n",
              "                \n",
              "        <div>\n",
              "            <p><b>SparkContext</b></p>\n",
              "\n",
              "            <p><a href=\"http://0f2f1658e55d:4040\">Spark UI</a></p>\n",
              "\n",
              "            <dl>\n",
              "              <dt>Version</dt>\n",
              "                <dd><code>v3.5.2</code></dd>\n",
              "              <dt>Master</dt>\n",
              "                <dd><code>local[*]</code></dd>\n",
              "              <dt>AppName</dt>\n",
              "                <dd><code>App</code></dd>\n",
              "            </dl>\n",
              "        </div>\n",
              "        \n",
              "            </div>\n",
              "        "
            ]
          },
          "metadata": {},
          "execution_count": 2
        }
      ]
    },
    {
      "cell_type": "code",
      "source": [
        "data = [(1,\"Mike\",\"2018\",\"10\",30000),\n",
        "    (2,\"John\",\"2010\",\"20\",40000),\n",
        "    (2,\"John\",\"2010\",\"20\",40000),\n",
        "    (3,\"Jack\",\"2010\",\"10\",40000),\n",
        "    (4,\"Charlee\",\"2005\",\"60\",35000),\n",
        "    (5,\"Guo\",\"2010\",\"40\",38000)]\n",
        "schema = [\"empid\",\"empname\",\"doj\", \"deptid\",\"salary\"]\n",
        "\n",
        "data1 = [(1,\"Mike\",\"2018\",\"10\",30000),\n",
        "         (2,\"John\",\"2010\",\"20\",40000),\n",
        "         (4,\"Charlee\",\"2005\",\"60\",35000),\n",
        "         (5,\"Guo\",\"2010\",\"40\",38000)]\n",
        "schema1 = [\"empid\",\"empname\",\"doj\", \"deptid\",\"salary\"]\n",
        "df = spark.createDataFrame(data, schema)\n",
        "df1 = spark.createDataFrame(data1,schema1)\n",
        "df.show()\n",
        "df1.show()"
      ],
      "metadata": {
        "colab": {
          "base_uri": "https://localhost:8080/"
        },
        "id": "SfmTcO3DRzal",
        "outputId": "703c5479-72b3-45a0-ee41-bacd5709c7d6"
      },
      "execution_count": 14,
      "outputs": [
        {
          "output_type": "stream",
          "name": "stdout",
          "text": [
            "+-----+-------+----+------+------+\n",
            "|empid|empname| doj|deptid|salary|\n",
            "+-----+-------+----+------+------+\n",
            "|    1|   Mike|2018|    10| 30000|\n",
            "|    2|   John|2010|    20| 40000|\n",
            "|    2|   John|2010|    20| 40000|\n",
            "|    3|   Jack|2010|    10| 40000|\n",
            "|    4|Charlee|2005|    60| 35000|\n",
            "|    5|    Guo|2010|    40| 38000|\n",
            "+-----+-------+----+------+------+\n",
            "\n",
            "+-----+-------+----+------+------+\n",
            "|empid|empname| doj|deptid|salary|\n",
            "+-----+-------+----+------+------+\n",
            "|    1|   Mike|2018|    10| 30000|\n",
            "|    2|   John|2010|    20| 40000|\n",
            "|    4|Charlee|2005|    60| 35000|\n",
            "|    5|    Guo|2010|    40| 38000|\n",
            "+-----+-------+----+------+------+\n",
            "\n"
          ]
        }
      ]
    },
    {
      "cell_type": "code",
      "source": [
        "# Substract function : Returns the rows that are present in one DataFrame but not in the other.\n",
        "# The resulting DataFrame will contain distinct rows (like the behavior of a set).\n",
        "df_sub = df.subtract(df1)\n",
        "df_sub.show()"
      ],
      "metadata": {
        "colab": {
          "base_uri": "https://localhost:8080/"
        },
        "id": "3jTRwfGrV2Vr",
        "outputId": "7821d851-f487-4067-8828-0affa0bdd19d"
      },
      "execution_count": 15,
      "outputs": [
        {
          "output_type": "stream",
          "name": "stdout",
          "text": [
            "+-----+-------+----+------+------+\n",
            "|empid|empname| doj|deptid|salary|\n",
            "+-----+-------+----+------+------+\n",
            "|    3|   Jack|2010|    10| 40000|\n",
            "+-----+-------+----+------+------+\n",
            "\n"
          ]
        }
      ]
    },
    {
      "cell_type": "code",
      "source": [
        "# Exceptall function : Returns all the rows from the first DataFrame that are not present in the second DataFrame,\n",
        "# including duplicate rows. The exceptAll() function returns all rows from df1 that are not present in df2.\n",
        "df_exceptall = df.exceptAll(df1)\n",
        "df_exceptall.show()"
      ],
      "metadata": {
        "colab": {
          "base_uri": "https://localhost:8080/"
        },
        "id": "ZlKFM_0OWVEH",
        "outputId": "3fd82b66-1d35-4def-cd0e-4ddfbe35d4cc"
      },
      "execution_count": 16,
      "outputs": [
        {
          "output_type": "stream",
          "name": "stdout",
          "text": [
            "+-----+-------+----+------+------+\n",
            "|empid|empname| doj|deptid|salary|\n",
            "+-----+-------+----+------+------+\n",
            "|    2|   John|2010|    20| 40000|\n",
            "|    3|   Jack|2010|    10| 40000|\n",
            "+-----+-------+----+------+------+\n",
            "\n"
          ]
        }
      ]
    }
  ]
}